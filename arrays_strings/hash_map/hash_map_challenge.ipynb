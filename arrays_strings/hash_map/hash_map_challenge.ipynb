{
 "cells": [
  {
   "cell_type": "markdown",
   "metadata": {},
   "source": [
    "This notebook was prepared by [Donne Martin](http://donnemartin.com). Source and license info is on [GitHub](https://github.com/donnemartin/interactive-coding-challenges)."
   ]
  },
  {
   "cell_type": "markdown",
   "metadata": {},
   "source": [
    "# Challenge Notebook"
   ]
  },
  {
   "cell_type": "markdown",
   "metadata": {},
   "source": [
    "## Problem: Implement a hash table with set, get, and remove methods.\n",
    "\n",
    "* [Constraints](#Constraints)\n",
    "* [Test Cases](#Test-Cases)\n",
    "* [Algorithm](#Algorithm)\n",
    "* [Code](#Code)\n",
    "* [Unit Test](#Unit-Test)\n",
    "* [Solution Notebook](#Solution-Notebook)"
   ]
  },
  {
   "cell_type": "markdown",
   "metadata": {},
   "source": [
    "## Constraints\n",
    "\n",
    "* For simplicity, are the keys integers only?\n",
    "    * Yes\n",
    "* For collision resolution, can we use chaining?\n",
    "    * Yes\n",
    "* Do we have to worry about load factors?\n",
    "    * No\n",
    "* Do we have to validate inputs?\n",
    "    * No\n",
    "* Can we assume this fits memory?\n",
    "    * Yes"
   ]
  },
  {
   "cell_type": "markdown",
   "metadata": {},
   "source": [
    "## Test Cases\n",
    "\n",
    "* `get` no matching key -> KeyError exception\n",
    "* `get` matching key -> value\n",
    "* `set` no matching key -> new key, value\n",
    "* `set` matching key -> update value\n",
    "* `remove` no matching key -> KeyError exception\n",
    "* `remove` matching key -> remove key, value"
   ]
  },
  {
   "cell_type": "markdown",
   "metadata": {},
   "source": [
    "## Algorithm\n",
    "\n",
    "Refer to the [Solution Notebook](http://nbviewer.ipython.org/github/donnemartin/interactive-coding-challenges/blob/master/arrays_strings/hash_map/hash_map_solution.ipynb).  If you are stuck and need a hint, the solution notebook's algorithm discussion might be a good place to start."
   ]
  },
  {
   "cell_type": "markdown",
   "metadata": {},
   "source": [
    "## Code"
   ]
  },
  {
   "cell_type": "code",
   "execution_count": null,
   "metadata": {},
   "outputs": [],
   "source": [
    "class Item(object):\n",
    "\n",
    "    def __init__(self, key, value):\n",
    "        # TODO: Implement me\n",
    "        pass\n",
    "\n",
    "\n",
    "class HashTable(object):\n",
    "\n",
    "    def __init__(self, size):\n",
    "        # TODO: Implement me\n",
    "        pass\n",
    "\n",
    "    def _hash_function(self, key):\n",
    "        # TODO: Implement me\n",
    "        pass\n",
    "\n",
    "    def set(self, key, value):\n",
    "        # TODO: Implement me\n",
    "        pass\n",
    "\n",
    "    def get(self, key):\n",
    "        # TODO: Implement me\n",
    "        pass\n",
    "\n",
    "    def remove(self, key):\n",
    "        # TODO: Implement me\n",
    "        pass"
   ]
  },
  {
   "cell_type": "markdown",
   "metadata": {},
   "source": [
    "## Unit Test"
   ]
  },
  {
   "cell_type": "markdown",
   "metadata": {},
   "source": [
    "\n",
    "\n",
    "**The following unit test is expected to fail until you solve the challenge.**"
   ]
  },
  {
   "cell_type": "code",
   "execution_count": null,
   "metadata": {},
   "outputs": [],
   "source": [
    "# %load test_hash_map.py\n",
    "import unittest\n",
    "\n",
    "\n",
    "class TestHashMap(unittest.TestCase):\n",
    "\n",
    "    # TODO: It would be better if we had unit tests for each\n",
    "    # method in addition to the following end-to-end test\n",
    "    def test_end_to_end(self):\n",
    "        hash_table = HashTable(10)\n",
    "\n",
    "        print(\"Test: get on an empty hash table index\")\n",
    "        self.assertRaises(KeyError, hash_table.get, 0)\n",
    "\n",
    "        print(\"Test: set on an empty hash table index\")\n",
    "        hash_table.set(0, 'foo')\n",
    "        self.assertEqual(hash_table.get(0), 'foo')\n",
    "        hash_table.set(1, 'bar')\n",
    "        self.assertEqual(hash_table.get(1), 'bar')\n",
    "\n",
    "        print(\"Test: set on a non empty hash table index\")\n",
    "        hash_table.set(10, 'foo2')\n",
    "        self.assertEqual(hash_table.get(0), 'foo')\n",
    "        self.assertEqual(hash_table.get(10), 'foo2')\n",
    "\n",
    "        print(\"Test: set on a key that already exists\")\n",
    "        hash_table.set(10, 'foo3')\n",
    "        self.assertEqual(hash_table.get(0), 'foo')\n",
    "        self.assertEqual(hash_table.get(10), 'foo3')\n",
    "\n",
    "        print(\"Test: remove on a key that already exists\")\n",
    "        hash_table.remove(10)\n",
    "        self.assertEqual(hash_table.get(0), 'foo')\n",
    "        self.assertRaises(KeyError, hash_table.get, 10)\n",
    "\n",
    "        print(\"Test: remove on a key that doesn't exist\")\n",
    "        self.assertRaises(KeyError, hash_table.remove, -1)\n",
    "\n",
    "        print('Success: test_end_to_end')\n",
    "\n",
    "\n",
    "def main():\n",
    "    test = TestHashMap()\n",
    "    test.test_end_to_end()\n",
    "\n",
    "\n",
    "if __name__ == '__main__':\n",
    "    main()"
   ]
  },
  {
   "cell_type": "markdown",
   "metadata": {},
   "source": [
    "## Solution Notebook\n",
    "\n",
    "Review the [Solution Notebook](http://nbviewer.ipython.org/github/donnemartin/interactive-coding-challenges/blob/master/arrays_strings/hash_map/hash_map_solution.ipynb) for a discussion on algorithms and code solutions."
   ]
  }
 ],
 "metadata": {
  "kernelspec": {
   "display_name": "Python 3",
   "language": "python",
   "name": "python3"
  },
  "language_info": {
   "codemirror_mode": {
    "name": "ipython",
    "version": 3
   },
   "file_extension": ".py",
   "mimetype": "text/x-python",
   "name": "python",
   "nbconvert_exporter": "python",
   "pygments_lexer": "ipython3",
   "version": "3.7.2"
  }
 },
 "nbformat": 4,
 "nbformat_minor": 1
}
