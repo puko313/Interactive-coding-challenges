{
 "cells": [
  {
   "cell_type": "markdown",
   "metadata": {},
   "source": [
    "This notebook was prepared by [Donne Martin](http://donnemartin.com). Source and license info is on [GitHub](https://github.com/donnemartin/interactive-coding-challenges)."
   ]
  },
  {
   "cell_type": "markdown",
   "metadata": {},
   "source": [
    "# Challenge Notebook"
   ]
  },
  {
   "cell_type": "markdown",
   "metadata": {},
   "source": [
    "## Problem: Implement a queue using two stacks.\n",
    "\n",
    "* [Constraints](#Constraints)\n",
    "* [Test Cases](#Test-Cases)\n",
    "* [Algorithm](#Algorithm)\n",
    "* [Code](#Code)\n",
    "* [Unit Test](#Unit-Test)\n",
    "* [Solution Notebook](#Solution-Notebook)"
   ]
  },
  {
   "cell_type": "markdown",
   "metadata": {},
   "source": [
    "## Constraints\n",
    "\n",
    "* Do we expect the methods to be enqueue and dequeue?\n",
    "    * Yes\n",
    "* Can we assume we already have a stack class that can be used for this problem?\n",
    "    * Yes\n",
    "* Can we push a None value to the Stack?\n",
    "    * No\n",
    "* Can we assume this fits memory?\n",
    "    * Yes"
   ]
  },
  {
   "cell_type": "markdown",
   "metadata": {},
   "source": [
    "## Test Cases\n",
    "\n",
    "* Enqueue and dequeue on empty stack\n",
    "* Enqueue and dequeue on non-empty stack\n",
    "* Multiple enqueue in a row\n",
    "* Multiple dequeue in a row\n",
    "* Enqueue after a dequeue\n",
    "* Dequeue after an enqueue"
   ]
  },
  {
   "cell_type": "markdown",
   "metadata": {},
   "source": [
    "## Algorithm\n",
    "\n",
    "Refer to the [Solution Notebook](http://nbviewer.ipython.org/github/donnemartin/interactive-coding-challenges/blob/master/stacks_queues/queue_from_stacks/queue_from_stacks_solution.ipynb).  If you are stuck and need a hint, the solution notebook's algorithm discussion might be a good place to start."
   ]
  },
  {
   "cell_type": "markdown",
   "metadata": {},
   "source": [
    "## Code"
   ]
  },
  {
   "cell_type": "code",
   "execution_count": null,
   "metadata": {},
   "outputs": [],
   "source": [
    "%run ../stack/stack.py\n",
    "%load ../stack/stack.py"
   ]
  },
  {
   "cell_type": "code",
   "execution_count": null,
   "metadata": {},
   "outputs": [],
   "source": [
    "class QueueFromStacks(object):\n",
    "\n",
    "    def __init__(self):\n",
    "        # TODO: Implement me\n",
    "        pass\n",
    "\n",
    "    def shift_stacks(self, source, destination):\n",
    "        # TODO: Implement me\n",
    "        pass\n",
    "\n",
    "    def enqueue(self, data):\n",
    "        # TODO: Implement me\n",
    "        pass\n",
    "\n",
    "    def dequeue(self):\n",
    "        # TODO: Implement me\n",
    "        pass"
   ]
  },
  {
   "cell_type": "markdown",
   "metadata": {},
   "source": [
    "## Unit Test\n",
    "\n"
   ]
  },
  {
   "cell_type": "code",
   "execution_count": null,
   "metadata": {},
   "outputs": [],
   "source": [
    "# %load test_queue_from_stacks.py\n",
    "import unittest\n",
    "\n",
    "\n",
    "class TestQueueFromStacks(unittest.TestCase):\n",
    "\n",
    "    def test_queue_from_stacks(self):\n",
    "        print('Test: Dequeue on empty stack')\n",
    "        queue = QueueFromStacks()\n",
    "        self.assertEqual(queue.dequeue(), None)\n",
    "\n",
    "        print('Test: Enqueue on empty stack')\n",
    "        print('Test: Enqueue on non-empty stack')\n",
    "        print('Test: Multiple enqueue in a row')\n",
    "        num_items = 3\n",
    "        for i in range(0, num_items):\n",
    "            queue.enqueue(i)\n",
    "\n",
    "        print('Test: Dequeue on non-empty stack')\n",
    "        print('Test: Dequeue after an enqueue')\n",
    "        self.assertEqual(queue.dequeue(), 0)\n",
    "\n",
    "        print('Test: Multiple dequeue in a row')\n",
    "        self.assertEqual(queue.dequeue(), 1)\n",
    "        self.assertEqual(queue.dequeue(), 2)\n",
    "\n",
    "        print('Test: Enqueue after a dequeue')\n",
    "        queue.enqueue(5)\n",
    "        self.assertEqual(queue.dequeue(), 5)\n",
    "\n",
    "        print('Success: test_queue_from_stacks')\n",
    "\n",
    "\n",
    "def main():\n",
    "    test = TestQueueFromStacks()\n",
    "    test.test_queue_from_stacks()\n",
    "\n",
    "\n",
    "if __name__ == '__main__':\n",
    "    main()"
   ]
  },
  {
   "cell_type": "markdown",
   "metadata": {},
   "source": [
    "## Solution Notebook\n",
    "\n",
    "Review the [Solution Notebook](http://nbviewer.ipython.org/github/donnemartin/interactive-coding-challenges/blob/master/stacks_queues/queue_from_stacks/queue_from_stacks_solution.ipynb) for a discussion on algorithms and code solutions."
   ]
  }
 ],
 "metadata": {
  "kernelspec": {
   "display_name": "Python 3",
   "language": "python",
   "name": "python3"
  },
  "language_info": {
   "codemirror_mode": {
    "name": "ipython",
    "version": 3
   },
   "file_extension": ".py",
   "mimetype": "text/x-python",
   "name": "python",
   "nbconvert_exporter": "python",
   "pygments_lexer": "ipython3",
   "version": "3.7.2"
  }
 },
 "nbformat": 4,
 "nbformat_minor": 1
}
