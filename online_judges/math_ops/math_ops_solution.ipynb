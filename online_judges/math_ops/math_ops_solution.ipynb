{
 "cells": [
  {
   "cell_type": "markdown",
   "metadata": {},
   "source": [
    "This notebook was prepared by [Donne Martin](https://github.com/donnemartin). Source and license info is on [GitHub](https://github.com/donnemartin/interactive-coding-challenges)."
   ]
  },
  {
   "cell_type": "markdown",
   "metadata": {},
   "source": [
    "# Solution Notebook"
   ]
  },
  {
   "cell_type": "markdown",
   "metadata": {},
   "source": [
    "## Problem: Create a class with an insert method to insert an int to a list.  It should also support calculating the max, min, mean, and mode in O(1).\n",
    "\n",
    "* [Constraints](#Constraints)\n",
    "* [Test Cases](#Test-Cases)\n",
    "* [Algorithm](#Algorithm)\n",
    "* [Code](#Code)\n",
    "* [Unit Test](#Unit-Test)"
   ]
  },
  {
   "cell_type": "markdown",
   "metadata": {},
   "source": [
    "## Constraints\n",
    "\n",
    "* Can we assume the inputs are valid?\n",
    "    * No\n",
    "* Is there a range of inputs?\n",
    "    * 0 <= item <= 100\n",
    "* Should mean return a float?\n",
    "    * Yes\n",
    "* Should the other results return an int?\n",
    "    * Yes\n",
    "* If there are multiple modes, what do we return?\n",
    "    * Any of the modes\n",
    "* Can we assume this fits memory?\n",
    "    * Yes"
   ]
  },
  {
   "cell_type": "markdown",
   "metadata": {},
   "source": [
    "## Test Cases\n",
    "\n",
    "* None -> TypeError\n",
    "* [] -> ValueError\n",
    "* [5, 2, 7, 9, 9, 2, 9, 4, 3, 3, 2]\n",
    "    * max: 9\n",
    "    * min: 2\n",
    "    * mean: 55\n",
    "    * mode: 9 or 2"
   ]
  },
  {
   "cell_type": "markdown",
   "metadata": {},
   "source": [
    "## Algorithm\n",
    "\n",
    "Return the input, val\n",
    "\n",
    "Complexity:\n",
    "* Time: O(1)\n",
    "* Space: O(1)"
   ]
  },
  {
   "cell_type": "markdown",
   "metadata": {},
   "source": [
    "## Code"
   ]
  },
  {
   "cell_type": "code",
   "execution_count": 1,
   "metadata": {},
   "outputs": [],
   "source": [
    "from __future__ import division\n",
    "\n",
    "\n",
    "class Solution(object):\n",
    "\n",
    "    def __init__(self, upper_limit=100):\n",
    "        self.max = None\n",
    "        self.min = None\n",
    "        # Mean\n",
    "        self.num_items = 0\n",
    "        self.running_sum = 0\n",
    "        self.mean = None\n",
    "        # Mode\n",
    "        self.array = [0] * (upper_limit+1)\n",
    "        self.mode_ocurrences = 0\n",
    "        self.mode = None\n",
    "\n",
    "    def insert(self, val):\n",
    "        if val is None:\n",
    "            raise TypeError('val cannot be None')\n",
    "        if self.max is None or val > self.max:\n",
    "            self.max = val\n",
    "        if self.min is None or val < self.min:\n",
    "            self.min = val\n",
    "        # Calculate the mean\n",
    "        self.num_items += 1\n",
    "        self.running_sum += val\n",
    "        self.mean = self.running_sum / self.num_items\n",
    "        # Calculate the mode\n",
    "        self.array[val] += 1\n",
    "        if self.array[val] > self.mode_ocurrences:\n",
    "            self.mode_ocurrences = self.array[val]\n",
    "            self.mode = val"
   ]
  },
  {
   "cell_type": "markdown",
   "metadata": {},
   "source": [
    "## Unit Test"
   ]
  },
  {
   "cell_type": "code",
   "execution_count": 2,
   "metadata": {},
   "outputs": [
    {
     "name": "stdout",
     "output_type": "stream",
     "text": [
      "Overwriting test_math_ops.py\n"
     ]
    }
   ],
   "source": [
    "%%writefile test_math_ops.py\n",
    "import unittest\n",
    "\n",
    "\n",
    "class TestMathOps(unittest.TestCase):\n",
    "\n",
    "    def test_math_ops(self):\n",
    "        solution = Solution()\n",
    "        self.assertRaises(TypeError, solution.insert, None)\n",
    "        solution.insert(5)\n",
    "        solution.insert(2)\n",
    "        solution.insert(7)\n",
    "        solution.insert(9)\n",
    "        solution.insert(9)\n",
    "        solution.insert(2)\n",
    "        solution.insert(9)\n",
    "        solution.insert(4)\n",
    "        solution.insert(3)\n",
    "        solution.insert(3)\n",
    "        solution.insert(2)\n",
    "        self.assertEqual(solution.max, 9)\n",
    "        self.assertEqual(solution.min, 2)\n",
    "        self.assertEqual(solution.mean, 5)\n",
    "        self.assertTrue(solution.mode in (2, 9))\n",
    "        print('Success: test_math_ops')\n",
    "\n",
    "\n",
    "def main():\n",
    "    test = TestMathOps()\n",
    "    test.test_math_ops()\n",
    "\n",
    "\n",
    "if __name__ == '__main__':\n",
    "    main()"
   ]
  },
  {
   "cell_type": "code",
   "execution_count": 3,
   "metadata": {},
   "outputs": [
    {
     "name": "stdout",
     "output_type": "stream",
     "text": [
      "Success: test_math_ops\n"
     ]
    }
   ],
   "source": [
    "%run -i test_math_ops.py"
   ]
  }
 ],
 "metadata": {
  "kernelspec": {
   "display_name": "Python 3",
   "language": "python",
   "name": "python3"
  },
  "language_info": {
   "codemirror_mode": {
    "name": "ipython",
    "version": 3
   },
   "file_extension": ".py",
   "mimetype": "text/x-python",
   "name": "python",
   "nbconvert_exporter": "python",
   "pygments_lexer": "ipython3",
   "version": "3.7.2"
  }
 },
 "nbformat": 4,
 "nbformat_minor": 1
}
